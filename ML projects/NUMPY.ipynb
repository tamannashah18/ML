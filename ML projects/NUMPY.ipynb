{
 "cells": [
  {
   "cell_type": "code",
   "execution_count": 1,
   "id": "5219fdbc",
   "metadata": {},
   "outputs": [],
   "source": [
    "import numpy as np"
   ]
  },
  {
   "cell_type": "code",
   "execution_count": 2,
   "id": "0d728f13",
   "metadata": {},
   "outputs": [
    {
     "data": {
      "text/plain": [
       "array([[203, 342, 145, 134],\n",
       "       [203, 342, 145, 134]])"
      ]
     },
     "execution_count": 2,
     "metadata": {},
     "output_type": "execute_result"
    }
   ],
   "source": [
    "l1=[203,342,145,134]\n",
    "n1=np.array([l1,l1])\n",
    "n1"
   ]
  },
  {
   "cell_type": "code",
   "execution_count": 3,
   "id": "f0e0b6d1",
   "metadata": {},
   "outputs": [
    {
     "name": "stdout",
     "output_type": "stream",
     "text": [
      "[203 342 145 134]\n",
      "[203, 342, 145, 134]\n"
     ]
    }
   ],
   "source": [
    "l1=[203,342,145,134]\n",
    "#numpy array only accepts numeric values in lists\n",
    "l2=np.array(l1)\n",
    "print(l2)\n",
    "print(l1)"
   ]
  },
  {
   "cell_type": "code",
   "execution_count": 4,
   "id": "889244fd",
   "metadata": {},
   "outputs": [
    {
     "data": {
      "text/plain": [
       "array([[0., 0., 0.],\n",
       "       [0., 0., 0.],\n",
       "       [0., 0., 0.]])"
      ]
     },
     "execution_count": 4,
     "metadata": {},
     "output_type": "execute_result"
    }
   ],
   "source": [
    "n3=np.zeros((3,3))\n",
    "n3"
   ]
  },
  {
   "cell_type": "code",
   "execution_count": 5,
   "id": "1fdda3bc",
   "metadata": {},
   "outputs": [
    {
     "data": {
      "text/plain": [
       "array([[1., 1., 1.],\n",
       "       [1., 1., 1.],\n",
       "       [1., 1., 1.],\n",
       "       [1., 1., 1.],\n",
       "       [1., 1., 1.]])"
      ]
     },
     "execution_count": 5,
     "metadata": {},
     "output_type": "execute_result"
    }
   ],
   "source": [
    "n4=np.ones((5,3))\n",
    "n4"
   ]
  },
  {
   "cell_type": "code",
   "execution_count": 6,
   "id": "e08aab33",
   "metadata": {},
   "outputs": [
    {
     "data": {
      "text/plain": [
       "array([[1, 2, 3],\n",
       "       [4, 5, 6],\n",
       "       [7, 8, 9]])"
      ]
     },
     "execution_count": 6,
     "metadata": {},
     "output_type": "execute_result"
    }
   ],
   "source": [
    "n5=np.arange(1,10).reshape(3,3)\n",
    "n5"
   ]
  },
  {
   "cell_type": "code",
   "execution_count": 7,
   "id": "92900983",
   "metadata": {},
   "outputs": [
    {
     "data": {
      "text/plain": [
       "array([ 1,  3,  5,  7,  9, 11, 13, 15, 17, 19, 21, 23, 25, 27, 29, 31, 33,\n",
       "       35, 37, 39, 41, 43, 45, 47, 49, 51, 53, 55, 57, 59, 61, 63, 65, 67,\n",
       "       69, 71, 73, 75, 77, 79, 81, 83, 85, 87, 89, 91, 93, 95, 97, 99])"
      ]
     },
     "execution_count": 7,
     "metadata": {},
     "output_type": "execute_result"
    }
   ],
   "source": [
    "n6=np.arange(1,100,2)\n",
    "#(range_start,range_end,step count)\n",
    "\n",
    "n6"
   ]
  },
  {
   "cell_type": "code",
   "execution_count": 8,
   "id": "a6ba4df1",
   "metadata": {},
   "outputs": [
    {
     "data": {
      "text/plain": [
       "array([[10, 10, 10],\n",
       "       [10, 10, 10],\n",
       "       [10, 10, 10]])"
      ]
     },
     "execution_count": 8,
     "metadata": {},
     "output_type": "execute_result"
    }
   ],
   "source": [
    "n7=np.full([3,3],10)\n",
    "n7"
   ]
  },
  {
   "cell_type": "code",
   "execution_count": 9,
   "id": "81f2f36f",
   "metadata": {},
   "outputs": [
    {
     "data": {
      "text/plain": [
       "array([76, 53, 62, 88, 60, 76, 87, 80, 68, 98, 66, 53, 65, 93, 74, 85, 93,\n",
       "       65, 58, 79, 87, 72, 57, 95, 96, 93, 99, 68, 93, 90])"
      ]
     },
     "execution_count": 9,
     "metadata": {},
     "output_type": "execute_result"
    }
   ],
   "source": [
    "n8=np.random.randint(50,100,30)\n",
    "#(range_start,range_end,no of values)\n",
    "n8"
   ]
  },
  {
   "cell_type": "code",
   "execution_count": 10,
   "id": "27030230",
   "metadata": {},
   "outputs": [
    {
     "data": {
      "text/plain": [
       "45"
      ]
     },
     "execution_count": 10,
     "metadata": {},
     "output_type": "execute_result"
    }
   ],
   "source": [
    "n9=np.sum(n5)\n",
    "n9\n"
   ]
  },
  {
   "cell_type": "code",
   "execution_count": 11,
   "id": "c87b264c",
   "metadata": {},
   "outputs": [
    {
     "data": {
      "text/plain": [
       "5.0"
      ]
     },
     "execution_count": 11,
     "metadata": {},
     "output_type": "execute_result"
    }
   ],
   "source": [
    "n9=np.mean(n5)\n",
    "n9\n"
   ]
  },
  {
   "cell_type": "code",
   "execution_count": 12,
   "id": "5a22d361",
   "metadata": {},
   "outputs": [
    {
     "data": {
      "text/plain": [
       "5.0"
      ]
     },
     "execution_count": 12,
     "metadata": {},
     "output_type": "execute_result"
    }
   ],
   "source": [
    "n9=np.median(n5)\n",
    "n9\n"
   ]
  },
  {
   "cell_type": "code",
   "execution_count": 13,
   "id": "20fd86a8",
   "metadata": {},
   "outputs": [
    {
     "data": {
      "text/plain": [
       "14.402507497731852"
      ]
     },
     "execution_count": 13,
     "metadata": {},
     "output_type": "execute_result"
    }
   ],
   "source": [
    "n9=np.std(n8)\n",
    "n9\n",
    "#standard deviation"
   ]
  },
  {
   "cell_type": "code",
   "execution_count": 14,
   "id": "6e388a0c",
   "metadata": {},
   "outputs": [
    {
     "data": {
      "text/plain": [
       "array([[-1., -2., -3.],\n",
       "       [-4., -5., -6.],\n",
       "       [-7., -8., -9.]])"
      ]
     },
     "execution_count": 14,
     "metadata": {},
     "output_type": "execute_result"
    }
   ],
   "source": [
    "n10=n3-n5\n",
    "n10"
   ]
  },
  {
   "cell_type": "code",
   "execution_count": 15,
   "id": "1a10276b",
   "metadata": {},
   "outputs": [
    {
     "data": {
      "text/plain": [
       "array([[4., 4., 4.],\n",
       "       [4., 4., 4.],\n",
       "       [4., 4., 4.]])"
      ]
     },
     "execution_count": 15,
     "metadata": {},
     "output_type": "execute_result"
    }
   ],
   "source": [
    "n11=n3+4\n",
    "n11"
   ]
  },
  {
   "cell_type": "code",
   "execution_count": 16,
   "id": "22439d13",
   "metadata": {},
   "outputs": [
    {
     "data": {
      "text/plain": [
       "array([[-8., -8., -8.],\n",
       "       [-8., -8., -8.],\n",
       "       [-8., -8., -8.],\n",
       "       [-8., -8., -8.],\n",
       "       [-8., -8., -8.]])"
      ]
     },
     "execution_count": 16,
     "metadata": {},
     "output_type": "execute_result"
    }
   ],
   "source": [
    "n4-=9\n",
    "n4"
   ]
  },
  {
   "cell_type": "code",
   "execution_count": 35,
   "id": "1f712a02",
   "metadata": {},
   "outputs": [
    {
     "data": {
      "text/plain": [
       "array([[10, 20, 30, 40],\n",
       "       [ 1,  2,  3,  4]])"
      ]
     },
     "execution_count": 35,
     "metadata": {},
     "output_type": "execute_result"
    }
   ],
   "source": [
    "a1=np.array([10,20,30,40])\n",
    "a2=np.array([1,2,3,4])\n",
    "m1=np.vstack([a1,a2])\n",
    "m1"
   ]
  },
  {
   "cell_type": "code",
   "execution_count": 36,
   "id": "cd619352",
   "metadata": {},
   "outputs": [
    {
     "data": {
      "text/plain": [
       "array([10, 20, 30, 40,  1,  2,  3,  4])"
      ]
     },
     "execution_count": 36,
     "metadata": {},
     "output_type": "execute_result"
    }
   ],
   "source": [
    "m2=np.hstack([a1,a2])\n",
    "m2"
   ]
  },
  {
   "cell_type": "code",
   "execution_count": 37,
   "id": "cf07e3c2",
   "metadata": {},
   "outputs": [
    {
     "data": {
      "text/plain": [
       "array([[10,  1],\n",
       "       [20,  2],\n",
       "       [30,  3],\n",
       "       [40,  4]])"
      ]
     },
     "execution_count": 37,
     "metadata": {},
     "output_type": "execute_result"
    }
   ],
   "source": [
    "m3=np.column_stack([a1,a2])\n",
    "m3\n"
   ]
  },
  {
   "cell_type": "code",
   "execution_count": 38,
   "id": "c15e8743",
   "metadata": {},
   "outputs": [
    {
     "data": {
      "text/plain": [
       "array([11, 22, 33, 44])"
      ]
     },
     "execution_count": 38,
     "metadata": {},
     "output_type": "execute_result"
    }
   ],
   "source": [
    "m4=a1+a2\n",
    "m4"
   ]
  },
  {
   "cell_type": "code",
   "execution_count": 39,
   "id": "96855e6e",
   "metadata": {},
   "outputs": [
    {
     "data": {
      "text/plain": [
       "array([[1],\n",
       "       [2],\n",
       "       [3],\n",
       "       [4]])"
      ]
     },
     "execution_count": 39,
     "metadata": {},
     "output_type": "execute_result"
    }
   ],
   "source": [
    "a2.shape=(4,1)\n",
    "a2"
   ]
  },
  {
   "cell_type": "code",
   "execution_count": 50,
   "id": "aa9d0ed7",
   "metadata": {},
   "outputs": [
    {
     "name": "stdout",
     "output_type": "stream",
     "text": [
      "[[10 20]\n",
      " [30 40]]\n",
      "[[1 2]\n",
      " [3 4]]\n"
     ]
    },
    {
     "data": {
      "text/plain": [
       "array([[40, 60],\n",
       "       [ 4,  6]])"
      ]
     },
     "execution_count": 50,
     "metadata": {},
     "output_type": "execute_result"
    }
   ],
   "source": [
    "a1.shape=a2.shape=(2,2)\n",
    "print(a1)\n",
    "print(a2)\n",
    "s1=np.sum([a1,a2],axis=1)\n",
    "s1"
   ]
  },
  {
   "cell_type": "code",
   "execution_count": 53,
   "id": "6651d1eb",
   "metadata": {},
   "outputs": [
    {
     "data": {
      "text/plain": [
       "array([[10, 20]])"
      ]
     },
     "execution_count": 53,
     "metadata": {},
     "output_type": "execute_result"
    }
   ],
   "source": [
    "a1[0:1] #splicing use 'Range operator ' i.e :"
   ]
  },
  {
   "cell_type": "code",
   "execution_count": 55,
   "id": "b4814ea0",
   "metadata": {},
   "outputs": [
    {
     "data": {
      "text/plain": [
       "array([30, 40])"
      ]
     },
     "execution_count": 55,
     "metadata": {},
     "output_type": "execute_result"
    }
   ],
   "source": [
    "a1[1,0:2]"
   ]
  },
  {
   "cell_type": "code",
   "execution_count": 58,
   "id": "0eb48ce3",
   "metadata": {},
   "outputs": [
    {
     "data": {
      "text/plain": [
       "2"
      ]
     },
     "execution_count": 58,
     "metadata": {},
     "output_type": "execute_result"
    }
   ],
   "source": [
    "a2[0,1]"
   ]
  },
  {
   "cell_type": "code",
   "execution_count": 60,
   "id": "c66b10a0",
   "metadata": {},
   "outputs": [
    {
     "data": {
      "text/plain": [
       "array([[30, 40]])"
      ]
     },
     "execution_count": 60,
     "metadata": {},
     "output_type": "execute_result"
    }
   ],
   "source": [
    "a1[-1:]"
   ]
  },
  {
   "cell_type": "code",
   "execution_count": 62,
   "id": "d5a19234",
   "metadata": {},
   "outputs": [],
   "source": [
    "np.save(\"my array\",a1)"
   ]
  },
  {
   "cell_type": "code",
   "execution_count": 66,
   "id": "de06d73b",
   "metadata": {},
   "outputs": [
    {
     "data": {
      "text/plain": [
       "array([[10, 20],\n",
       "       [30, 40]])"
      ]
     },
     "execution_count": 66,
     "metadata": {},
     "output_type": "execute_result"
    }
   ],
   "source": [
    "n7=np.load(\"my array.npy\")\n",
    "n7"
   ]
  },
  {
   "cell_type": "code",
   "execution_count": null,
   "id": "e841df3c",
   "metadata": {},
   "outputs": [],
   "source": []
  }
 ],
 "metadata": {
  "kernelspec": {
   "display_name": "Python 3 (ipykernel)",
   "language": "python",
   "name": "python3"
  },
  "language_info": {
   "codemirror_mode": {
    "name": "ipython",
    "version": 3
   },
   "file_extension": ".py",
   "mimetype": "text/x-python",
   "name": "python",
   "nbconvert_exporter": "python",
   "pygments_lexer": "ipython3",
   "version": "3.9.7"
  }
 },
 "nbformat": 4,
 "nbformat_minor": 5
}
