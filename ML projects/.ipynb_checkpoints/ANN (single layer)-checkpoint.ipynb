{
 "cells": [
  {
   "cell_type": "code",
   "execution_count": 1,
   "id": "afdf58fb",
   "metadata": {},
   "outputs": [],
   "source": [
    "import numpy as np"
   ]
  },
  {
   "cell_type": "code",
   "execution_count": 3,
   "id": "240a1f14",
   "metadata": {},
   "outputs": [
    {
     "name": "stdout",
     "output_type": "stream",
     "text": [
      "[[0 1 0]\n",
      " [1 1 0]\n",
      " [1 0 1]\n",
      " [0 0 1]] \n",
      " \n",
      " [[0]\n",
      " [1]\n",
      " [1]\n",
      " [0]]\n"
     ]
    }
   ],
   "source": [
    "x=np.array([[0,1,0],[1,1,0],[1,0,1],[0,0,1]])\n",
    "y=np.array([[0],[1],[1],[0]])\n",
    "print(x,\"\\n \\n\",y)"
   ]
  },
  {
   "cell_type": "code",
   "execution_count": 6,
   "id": "7e6b4dfd",
   "metadata": {},
   "outputs": [
    {
     "data": {
      "text/plain": [
       "array([[0.96941853],\n",
       "       [0.0647804 ],\n",
       "       [0.28247504]])"
      ]
     },
     "execution_count": 6,
     "metadata": {},
     "output_type": "execute_result"
    }
   ],
   "source": [
    "weights=np.random.random((3,1))\n",
    "weights"
   ]
  },
  {
   "cell_type": "code",
   "execution_count": 7,
   "id": "bef0c32c",
   "metadata": {},
   "outputs": [
    {
     "data": {
      "text/plain": [
       "array([[0.0847804 ],\n",
       "       [1.05419894],\n",
       "       [1.27189357],\n",
       "       [0.30247504]])"
      ]
     },
     "execution_count": 7,
     "metadata": {},
     "output_type": "execute_result"
    }
   ],
   "source": [
    "#sum(x*w)+bias\n",
    "sum=np.dot(x,weights)+0.02\n",
    "sum"
   ]
  },
  {
   "cell_type": "code",
   "execution_count": 8,
   "id": "0feeb74b",
   "metadata": {},
   "outputs": [],
   "source": [
    "#activation func\n",
    "def act(x):\n",
    "    return 1/(1+np.exp(-x))"
   ]
  },
  {
   "cell_type": "code",
   "execution_count": 9,
   "id": "8902ef4a",
   "metadata": {},
   "outputs": [],
   "source": [
    "pred=act(sum)"
   ]
  },
  {
   "cell_type": "code",
   "execution_count": 10,
   "id": "97097131",
   "metadata": {},
   "outputs": [
    {
     "data": {
      "text/plain": [
       "array([[0.52118241],\n",
       "       [0.74158039],\n",
       "       [0.78106672],\n",
       "       [0.57504745]])"
      ]
     },
     "execution_count": 10,
     "metadata": {},
     "output_type": "execute_result"
    }
   ],
   "source": [
    "pred"
   ]
  },
  {
   "cell_type": "code",
   "execution_count": 11,
   "id": "97f43944",
   "metadata": {},
   "outputs": [
    {
     "data": {
      "text/plain": [
       "array([[1.],\n",
       "       [1.],\n",
       "       [1.],\n",
       "       [1.]])"
      ]
     },
     "execution_count": 11,
     "metadata": {},
     "output_type": "execute_result"
    }
   ],
   "source": [
    "pred.round()"
   ]
  },
  {
   "cell_type": "code",
   "execution_count": 12,
   "id": "a141a527",
   "metadata": {},
   "outputs": [
    {
     "data": {
      "text/plain": [
       "array([[-0.52118241],\n",
       "       [ 0.25841961],\n",
       "       [ 0.21893328],\n",
       "       [-0.57504745]])"
      ]
     },
     "execution_count": 12,
     "metadata": {},
     "output_type": "execute_result"
    }
   ],
   "source": [
    "error=y-pred\n",
    "error"
   ]
  },
  {
   "cell_type": "code",
   "execution_count": 13,
   "id": "24d0f28b",
   "metadata": {},
   "outputs": [],
   "source": [
    "def gradient(x,error):\n",
    "    return error*(x*(1-x))"
   ]
  },
  {
   "cell_type": "code",
   "execution_count": 16,
   "id": "fd414339",
   "metadata": {},
   "outputs": [],
   "source": [
    "w_change=gradient(pred,error)#gradient descent\n",
    "weights=weights+np.dot(x.T,w_change)#back propogation(.T= transpose)"
   ]
  },
  {
   "cell_type": "code",
   "execution_count": 17,
   "id": "6b4724d7",
   "metadata": {},
   "outputs": [
    {
     "data": {
      "text/plain": [
       "array([[-0.04878628],\n",
       "       [ 0.03411781],\n",
       "       [ 0.03411778],\n",
       "       [-0.04878632]])"
      ]
     },
     "execution_count": 17,
     "metadata": {},
     "output_type": "execute_result"
    }
   ],
   "source": [
    "while mini<error\n",
    "    sum=np.dot(x,weights)+0.02\n",
    "    pred=act(sum)\n",
    "    mini=error\n",
    "    error=y-pred\n",
    "    w_change=gradient(pred,error)#gradient descent\n",
    "    weights=weights+np.dot(x.T,w_change)#back propogation(.T= transpose)\n",
    "error"
   ]
  },
  {
   "cell_type": "code",
   "execution_count": 18,
   "id": "0ddbefdf",
   "metadata": {},
   "outputs": [
    {
     "data": {
      "text/plain": [
       "array([[0.04878628],\n",
       "       [0.96588219],\n",
       "       [0.96588222],\n",
       "       [0.04878632]])"
      ]
     },
     "execution_count": 18,
     "metadata": {},
     "output_type": "execute_result"
    }
   ],
   "source": [
    "pred"
   ]
  },
  {
   "cell_type": "code",
   "execution_count": 19,
   "id": "ae855cb5",
   "metadata": {},
   "outputs": [
    {
     "data": {
      "text/plain": [
       "array([[0.],\n",
       "       [1.],\n",
       "       [1.],\n",
       "       [0.]])"
      ]
     },
     "execution_count": 19,
     "metadata": {},
     "output_type": "execute_result"
    }
   ],
   "source": [
    "pred.round()"
   ]
  },
  {
   "cell_type": "code",
   "execution_count": null,
   "id": "33e06398",
   "metadata": {},
   "outputs": [],
   "source": []
  }
 ],
 "metadata": {
  "kernelspec": {
   "display_name": "Python 3 (ipykernel)",
   "language": "python",
   "name": "python3"
  },
  "language_info": {
   "codemirror_mode": {
    "name": "ipython",
    "version": 3
   },
   "file_extension": ".py",
   "mimetype": "text/x-python",
   "name": "python",
   "nbconvert_exporter": "python",
   "pygments_lexer": "ipython3",
   "version": "3.9.7"
  }
 },
 "nbformat": 4,
 "nbformat_minor": 5
}
