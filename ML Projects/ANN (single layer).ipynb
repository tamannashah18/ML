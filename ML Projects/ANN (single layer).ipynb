{
 "cells": [
  {
   "cell_type": "code",
   "execution_count": 1,
   "id": "6c08cc4f",
   "metadata": {},
   "outputs": [],
   "source": [
    "import numpy as np"
   ]
  },
  {
   "cell_type": "code",
   "execution_count": 2,
   "id": "0cabeb7a",
   "metadata": {},
   "outputs": [
    {
     "name": "stdout",
     "output_type": "stream",
     "text": [
      "[[0 1 0]\n",
      " [1 1 0]\n",
      " [1 0 1]\n",
      " [0 0 1]] \n",
      " \n",
      " [[0]\n",
      " [1]\n",
      " [1]\n",
      " [0]]\n"
     ]
    }
   ],
   "source": [
    "x=np.array([[0,1,0],[1,1,0],[1,0,1],[0,0,1]])\n",
    "y=np.array([[0],[1],[1],[0]])\n",
    "print(x,\"\\n \\n\",y)"
   ]
  },
  {
   "cell_type": "code",
   "execution_count": 3,
   "id": "ead70864",
   "metadata": {},
   "outputs": [
    {
     "data": {
      "text/plain": [
       "array([[0.25903649],\n",
       "       [0.16407814],\n",
       "       [0.94526816]])"
      ]
     },
     "execution_count": 3,
     "metadata": {},
     "output_type": "execute_result"
    }
   ],
   "source": [
    "weights=np.random.random((3,1))\n",
    "weights"
   ]
  },
  {
   "cell_type": "code",
   "execution_count": 4,
   "id": "f17f7092",
   "metadata": {},
   "outputs": [
    {
     "data": {
      "text/plain": [
       "array([[0.18407814],\n",
       "       [0.44311463],\n",
       "       [1.22430464],\n",
       "       [0.96526816]])"
      ]
     },
     "execution_count": 4,
     "metadata": {},
     "output_type": "execute_result"
    }
   ],
   "source": [
    "#sum(x*w)+bias\n",
    "sum=np.dot(x,weights)+0.02\n",
    "sum"
   ]
  },
  {
   "cell_type": "code",
   "execution_count": 5,
   "id": "d31164ed",
   "metadata": {},
   "outputs": [],
   "source": [
    "#activation func\n",
    "def act(x):\n",
    "    return 1/(1+np.exp(-x))"
   ]
  },
  {
   "cell_type": "code",
   "execution_count": 6,
   "id": "5065bfd6",
   "metadata": {},
   "outputs": [],
   "source": [
    "pred=act(sum)"
   ]
  },
  {
   "cell_type": "code",
   "execution_count": 7,
   "id": "0040ac75",
   "metadata": {},
   "outputs": [
    {
     "data": {
      "text/plain": [
       "array([[0.54589003],\n",
       "       [0.60900093],\n",
       "       [0.7728202 ],\n",
       "       [0.72417534]])"
      ]
     },
     "execution_count": 7,
     "metadata": {},
     "output_type": "execute_result"
    }
   ],
   "source": [
    "pred"
   ]
  },
  {
   "cell_type": "code",
   "execution_count": 8,
   "id": "36515a4e",
   "metadata": {},
   "outputs": [
    {
     "data": {
      "text/plain": [
       "array([[1.],\n",
       "       [1.],\n",
       "       [1.],\n",
       "       [1.]])"
      ]
     },
     "execution_count": 8,
     "metadata": {},
     "output_type": "execute_result"
    }
   ],
   "source": [
    "pred.round()"
   ]
  },
  {
   "cell_type": "code",
   "execution_count": 9,
   "id": "1f348bb2",
   "metadata": {},
   "outputs": [
    {
     "data": {
      "text/plain": [
       "array([[-0.54589003],\n",
       "       [ 0.39099907],\n",
       "       [ 0.2271798 ],\n",
       "       [-0.72417534]])"
      ]
     },
     "execution_count": 9,
     "metadata": {},
     "output_type": "execute_result"
    }
   ],
   "source": [
    "error=y-pred\n",
    "error"
   ]
  },
  {
   "cell_type": "code",
   "execution_count": 10,
   "id": "2abddb49",
   "metadata": {},
   "outputs": [],
   "source": [
    "def gradient(x,error):\n",
    "    return error*(x*(1-x))"
   ]
  },
  {
   "cell_type": "code",
   "execution_count": 11,
   "id": "91ee4f37",
   "metadata": {},
   "outputs": [],
   "source": [
    "w_change=gradient(pred,error)#gradient descent\n",
    "weights=weights+np.dot(x.T,w_change)#back propogation(.T= transpose)"
   ]
  },
  {
   "cell_type": "code",
   "execution_count": 23,
   "id": "839541f9",
   "metadata": {},
   "outputs": [
    {
     "data": {
      "text/plain": [
       "array([[-0.02335767],\n",
       "       [ 0.01643278],\n",
       "       [ 0.01643278],\n",
       "       [-0.02335767]])"
      ]
     },
     "execution_count": 23,
     "metadata": {},
     "output_type": "execute_result"
    }
   ],
   "source": [
    "for i in range(0,1000):\n",
    "    sum=np.dot(x,weights)+0.02\n",
    "    pred=act(sum)\n",
    "    mini=error\n",
    "    error=y-pred\n",
    "    w_change=gradient(pred,error)#gradient descent\n",
    "    weights=weights+np.dot(x.T,w_change)#back propogation(.T= transpose)\n",
    "    if mini.all()==error.all() & i>1:\n",
    "        break\n",
    "error"
   ]
  },
  {
   "cell_type": "code",
   "execution_count": 24,
   "id": "3bd4d2a7",
   "metadata": {},
   "outputs": [
    {
     "data": {
      "text/plain": [
       "array([[0.02335767],\n",
       "       [0.98356722],\n",
       "       [0.98356722],\n",
       "       [0.02335767]])"
      ]
     },
     "execution_count": 24,
     "metadata": {},
     "output_type": "execute_result"
    }
   ],
   "source": [
    "pred"
   ]
  },
  {
   "cell_type": "code",
   "execution_count": 25,
   "id": "cba10015",
   "metadata": {},
   "outputs": [
    {
     "data": {
      "text/plain": [
       "array([[0.],\n",
       "       [1.],\n",
       "       [1.],\n",
       "       [0.]])"
      ]
     },
     "execution_count": 25,
     "metadata": {},
     "output_type": "execute_result"
    }
   ],
   "source": [
    "pred.round()"
   ]
  },
  {
   "cell_type": "code",
   "execution_count": null,
   "id": "0dab6f67",
   "metadata": {},
   "outputs": [],
   "source": []
  }
 ],
 "metadata": {
  "kernelspec": {
   "display_name": "Python 3 (ipykernel)",
   "language": "python",
   "name": "python3"
  },
  "language_info": {
   "codemirror_mode": {
    "name": "ipython",
    "version": 3
   },
   "file_extension": ".py",
   "mimetype": "text/x-python",
   "name": "python",
   "nbconvert_exporter": "python",
   "pygments_lexer": "ipython3",
   "version": "3.9.7"
  }
 },
 "nbformat": 4,
 "nbformat_minor": 5
}
