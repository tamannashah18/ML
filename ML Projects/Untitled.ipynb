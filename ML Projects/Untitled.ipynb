{
 "cells": [
  {
   "cell_type": "code",
   "execution_count": 1,
   "id": "a8407f3d",
   "metadata": {},
   "outputs": [
    {
     "name": "stdout",
     "output_type": "stream",
     "text": [
      "[11, 12, 14, 'hello']\n"
     ]
    }
   ],
   "source": [
    "mylist=[11,12,14,\"hello\"]\n",
    "print(mylist)"
   ]
  },
  {
   "cell_type": "code",
   "execution_count": 2,
   "id": "5b3bd27f",
   "metadata": {},
   "outputs": [
    {
     "name": "stdout",
     "output_type": "stream",
     "text": [
      "(20, 20, 'hello')\n"
     ]
    }
   ],
   "source": [
    "myTuple=(20,20,\"hello\")\n",
    "print(myTuple)"
   ]
  },
  {
   "cell_type": "code",
   "execution_count": 3,
   "id": "34a8318f",
   "metadata": {},
   "outputs": [
    {
     "name": "stdout",
     "output_type": "stream",
     "text": [
      "20\n",
      "20\n",
      "hello\n"
     ]
    }
   ],
   "source": [
    "for i in myTuple:\n",
    "    print(i)"
   ]
  },
  {
   "cell_type": "code",
   "execution_count": 4,
   "id": "b0e8e89a",
   "metadata": {},
   "outputs": [
    {
     "ename": "TypeError",
     "evalue": "'tuple' object does not support item assignment",
     "output_type": "error",
     "traceback": [
      "\u001b[0;31m---------------------------------------------------------------------------\u001b[0m",
      "\u001b[0;31mTypeError\u001b[0m                                 Traceback (most recent call last)",
      "\u001b[0;32m/tmp/ipykernel_3208/2105686830.py\u001b[0m in \u001b[0;36m<module>\u001b[0;34m\u001b[0m\n\u001b[0;32m----> 1\u001b[0;31m \u001b[0mmyTuple\u001b[0m\u001b[0;34m[\u001b[0m\u001b[0;36m0\u001b[0m\u001b[0;34m]\u001b[0m\u001b[0;34m=\u001b[0m\u001b[0;34m\"abc\"\u001b[0m\u001b[0;34m\u001b[0m\u001b[0;34m\u001b[0m\u001b[0m\n\u001b[0m",
      "\u001b[0;31mTypeError\u001b[0m: 'tuple' object does not support item assignment"
     ]
    }
   ],
   "source": [
    "myTuple[0]=\"abc\""
   ]
  },
  {
   "cell_type": "code",
   "execution_count": 5,
   "id": "80f09b53",
   "metadata": {},
   "outputs": [
    {
     "data": {
      "text/plain": [
       "tuple"
      ]
     },
     "execution_count": 5,
     "metadata": {},
     "output_type": "execute_result"
    }
   ],
   "source": [
    "type(myTuple)"
   ]
  },
  {
   "cell_type": "code",
   "execution_count": 11,
   "id": "f05b19d5",
   "metadata": {},
   "outputs": [
    {
     "name": "stdout",
     "output_type": "stream",
     "text": [
      "set 1:\n",
      "{1, 2, 4}\n",
      "set 2:\n",
      "{1, 2, 6, 7, 8}\n"
     ]
    }
   ],
   "source": [
    "s1={1,2,4}\n",
    "print(\"set 1:\")\n",
    "print(s1)\n",
    "s2={1,2,6,7,8}\n",
    "print(\"set 2:\")\n",
    "print(s2)"
   ]
  },
  {
   "cell_type": "code",
   "execution_count": 12,
   "id": "1e0e8c6a",
   "metadata": {},
   "outputs": [
    {
     "data": {
      "text/plain": [
       "{4}"
      ]
     },
     "execution_count": 12,
     "metadata": {},
     "output_type": "execute_result"
    }
   ],
   "source": [
    "s1-s2"
   ]
  },
  {
   "cell_type": "code",
   "execution_count": 13,
   "id": "1b44fce9",
   "metadata": {},
   "outputs": [
    {
     "data": {
      "text/plain": [
       "{4}"
      ]
     },
     "execution_count": 13,
     "metadata": {},
     "output_type": "execute_result"
    }
   ],
   "source": [
    "s1.difference(s2)"
   ]
  },
  {
   "cell_type": "code",
   "execution_count": 15,
   "id": "8a24e23e",
   "metadata": {},
   "outputs": [
    {
     "data": {
      "text/plain": [
       "{6, 7, 8}"
      ]
     },
     "execution_count": 15,
     "metadata": {},
     "output_type": "execute_result"
    }
   ],
   "source": [
    "s2-s1"
   ]
  },
  {
   "cell_type": "code",
   "execution_count": 22,
   "id": "7bacbac8",
   "metadata": {},
   "outputs": [
    {
     "data": {
      "text/plain": [
       "{'123': 'natural number', 1: 'special no'}"
      ]
     },
     "execution_count": 22,
     "metadata": {},
     "output_type": "execute_result"
    }
   ],
   "source": [
    "d={\"123\":\"natural number\",1:\"special no\"}\n",
    "d"
   ]
  },
  {
   "cell_type": "code",
   "execution_count": 52,
   "id": "fc6fd72b",
   "metadata": {},
   "outputs": [],
   "source": [
    "class abc:\n",
    "    def __init__(self,msg):\n",
    "        print(msg)\n",
    "    def show(self):\n",
    "        print(\"hello show\")"
   ]
  },
  {
   "cell_type": "code",
   "execution_count": 53,
   "id": "b152eceb",
   "metadata": {},
   "outputs": [
    {
     "name": "stdout",
     "output_type": "stream",
     "text": [
      "hello\n",
      "hello show\n"
     ]
    }
   ],
   "source": [
    "obj=abc(\"hello\")\n",
    "obj.show()"
   ]
  },
  {
   "cell_type": "code",
   "execution_count": 54,
   "id": "6e133b0a",
   "metadata": {},
   "outputs": [
    {
     "name": "stdout",
     "output_type": "stream",
     "text": [
      "yellow\n",
      "show in xyz\n"
     ]
    }
   ],
   "source": [
    "class xyz(abc):\n",
    "    def show(self):\n",
    "        print(\"show in xyz\")\n",
    "obj2=xyz(\"yellow\")\n",
    "obj2.show()"
   ]
  },
  {
   "cell_type": "code",
   "execution_count": 56,
   "id": "4976e821",
   "metadata": {},
   "outputs": [
    {
     "name": "stdout",
     "output_type": "stream",
     "text": [
      "enter value3\n",
      "show in xyz\n"
     ]
    }
   ],
   "source": [
    "obj3=any\n",
    "k=int(input(\"enter value\"))\n",
    "if k==1:\n",
    "    obj3=obj\n",
    "else :\n",
    "    obj3=obj2\n",
    "obj3.show()"
   ]
  }
 ],
 "metadata": {
  "kernelspec": {
   "display_name": "Python 3 (ipykernel)",
   "language": "python",
   "name": "python3"
  },
  "language_info": {
   "codemirror_mode": {
    "name": "ipython",
    "version": 3
   },
   "file_extension": ".py",
   "mimetype": "text/x-python",
   "name": "python",
   "nbconvert_exporter": "python",
   "pygments_lexer": "ipython3",
   "version": "3.9.7"
  }
 },
 "nbformat": 4,
 "nbformat_minor": 5
}
